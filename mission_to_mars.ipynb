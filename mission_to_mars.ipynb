{
 "cells": [
  {
   "cell_type": "code",
   "execution_count": 2,
   "metadata": {},
   "outputs": [],
   "source": [
    "# Imports\n",
    "\n",
    "import pandas as pd\n",
    "from bs4 import BeautifulSoup as bs\n",
    "import requests\n",
    "from splinter import Browser"
   ]
  },
  {
   "cell_type": "code",
   "execution_count": 3,
   "metadata": {},
   "outputs": [],
   "source": [
    "# Set up Splinter\n",
    "executable_path = {'executable_path': 'chromedriver.exe'}"
   ]
  },
  {
   "cell_type": "code",
   "execution_count": 6,
   "metadata": {},
   "outputs": [
    {
     "name": "stdout",
     "output_type": "stream",
     "text": [
      "What's Mars Solar Conjunction, and Why Does It Matter?\n",
      "NASA spacecraft at Mars are going to be on their own for a few weeks when the Sun comes between Mars and Earth, interrupting communications.\n"
     ]
    }
   ],
   "source": [
    "# Soupify the NASA Mars url\n",
    "url = f\"https://mars.nasa.gov/news/\"\n",
    "with Browser('chrome', **executable_path, headless=False) as browser:\n",
    "    browser.visit(url)\n",
    "    soup = bs(browser.html, 'html.parser')\n",
    "\n",
    "\n",
    "# Scrape the relevant data\n",
    "newsTitle = soup.find(\"div\", class_=\"content_title\").text\n",
    "newsDescription = soup.find(\"div\", class_=\"article_teaser_body\").text\n",
    "\n",
    "print(newsTitle)\n",
    "print(newsDescription)"
   ]
  },
  {
   "cell_type": "code",
   "execution_count": null,
   "metadata": {},
   "outputs": [],
   "source": []
  },
  {
   "cell_type": "code",
   "execution_count": 7,
   "metadata": {},
   "outputs": [
    {
     "name": "stdout",
     "output_type": "stream",
     "text": [
      "https://www.jpl.nasa.gov/spaceimages/images/wallpaper/PIA19168-1920x1200.jpg\n"
     ]
    }
   ],
   "source": [
    "# Visit the JPL site\n",
    "jplUrl = f\"https://www.jpl.nasa.gov\"\n",
    "marsImagesUrlParam = \"/spaceimages/?search=&category=Mars\"\n",
    "\n",
    "with Browser('chrome', **executable_path, headless=False) as browser:\n",
    "    browser.visit(jplUrl + marsImagesUrlParam)\n",
    "    soup = bs(browser.html, 'html.parser')\n",
    "    \n",
    "# Scrape the relevant data\n",
    "article = soup.find(\"article\", class_=\"carousel_item\")\n",
    "\n",
    "# Obtain the featured image url\n",
    "image = article[\"style\"].split(\"'\")\n",
    "featured_image_url = jplUrl + image[1]\n",
    "\n",
    "print(featured_image_url)"
   ]
  },
  {
   "cell_type": "code",
   "execution_count": null,
   "metadata": {},
   "outputs": [],
   "source": []
  },
  {
   "cell_type": "code",
   "execution_count": 8,
   "metadata": {},
   "outputs": [
    {
     "name": "stdout",
     "output_type": "stream",
     "text": [
      "We won’t be hearing from \n"
     ]
    }
   ],
   "source": [
    "# Mars Weather\n",
    "marsWeatherTwitterUrl = f\"https://twitter.com/marswxreport?lang=en\"\n",
    "\n",
    "with Browser('chrome', **executable_path, headless=False) as browser:\n",
    "    browser.visit(marsWeatherTwitterUrl)\n",
    "    soup = bs(browser.html, 'html.parser')\n",
    "\n",
    "# Scrape the weather\n",
    "mars_weather = soup.find(\"div\", class_=\"js-tweet-text-container\")\n",
    "mars_weather = mars_weather.p.get_text(\"|\").split(\"|\")[0]\n",
    "mars_weather = mars_weather.replace(\"\\n\", \", \")\n",
    "print(mars_weather)"
   ]
  },
  {
   "cell_type": "code",
   "execution_count": null,
   "metadata": {},
   "outputs": [],
   "source": []
  },
  {
   "cell_type": "code",
   "execution_count": 9,
   "metadata": {},
   "outputs": [
    {
     "data": {
      "text/html": [
       "<div>\n",
       "<style scoped>\n",
       "    .dataframe tbody tr th:only-of-type {\n",
       "        vertical-align: middle;\n",
       "    }\n",
       "\n",
       "    .dataframe tbody tr th {\n",
       "        vertical-align: top;\n",
       "    }\n",
       "\n",
       "    .dataframe thead th {\n",
       "        text-align: right;\n",
       "    }\n",
       "</style>\n",
       "<table border=\"1\" class=\"dataframe\">\n",
       "  <thead>\n",
       "    <tr style=\"text-align: right;\">\n",
       "      <th></th>\n",
       "      <th>Value</th>\n",
       "    </tr>\n",
       "    <tr>\n",
       "      <th>Description</th>\n",
       "      <th></th>\n",
       "    </tr>\n",
       "  </thead>\n",
       "  <tbody>\n",
       "    <tr>\n",
       "      <th>Equatorial Diameter:</th>\n",
       "      <td>6,792 km</td>\n",
       "    </tr>\n",
       "    <tr>\n",
       "      <th>Polar Diameter:</th>\n",
       "      <td>6,752 km</td>\n",
       "    </tr>\n",
       "    <tr>\n",
       "      <th>Mass:</th>\n",
       "      <td>6.39 × 10^23 kg (0.11 Earths)</td>\n",
       "    </tr>\n",
       "    <tr>\n",
       "      <th>Moons:</th>\n",
       "      <td>2 (Phobos &amp; Deimos)</td>\n",
       "    </tr>\n",
       "    <tr>\n",
       "      <th>Orbit Distance:</th>\n",
       "      <td>227,943,824 km (1.38 AU)</td>\n",
       "    </tr>\n",
       "    <tr>\n",
       "      <th>Orbit Period:</th>\n",
       "      <td>687 days (1.9 years)</td>\n",
       "    </tr>\n",
       "    <tr>\n",
       "      <th>Surface Temperature:</th>\n",
       "      <td>-87 to -5 °C</td>\n",
       "    </tr>\n",
       "    <tr>\n",
       "      <th>First Record:</th>\n",
       "      <td>2nd millennium BC</td>\n",
       "    </tr>\n",
       "    <tr>\n",
       "      <th>Recorded By:</th>\n",
       "      <td>Egyptian astronomers</td>\n",
       "    </tr>\n",
       "  </tbody>\n",
       "</table>\n",
       "</div>"
      ],
      "text/plain": [
       "                                              Value\n",
       "Description                                        \n",
       "Equatorial Diameter:                       6,792 km\n",
       "Polar Diameter:                            6,752 km\n",
       "Mass:                 6.39 × 10^23 kg (0.11 Earths)\n",
       "Moons:                          2 (Phobos & Deimos)\n",
       "Orbit Distance:            227,943,824 km (1.38 AU)\n",
       "Orbit Period:                  687 days (1.9 years)\n",
       "Surface Temperature:                   -87 to -5 °C\n",
       "First Record:                     2nd millennium BC\n",
       "Recorded By:                   Egyptian astronomers"
      ]
     },
     "execution_count": 9,
     "metadata": {},
     "output_type": "execute_result"
    }
   ],
   "source": [
    "# Mars Facts\n",
    "marsFactsUrl = f\"https://space-facts.com/mars/\"\n",
    "marsFacts = pd.read_html(marsFactsUrl)\n",
    "marsFacts = marsFacts[1]\n",
    "marsFacts.columns = [\"Description\", \"Value\"]\n",
    "marsFacts.set_index(\"Description\", inplace = True)\n",
    "marsFacts"
   ]
  },
  {
   "cell_type": "code",
   "execution_count": null,
   "metadata": {},
   "outputs": [],
   "source": []
  },
  {
   "cell_type": "code",
   "execution_count": 10,
   "metadata": {},
   "outputs": [
    {
     "data": {
      "text/plain": [
       "[]"
      ]
     },
     "execution_count": 10,
     "metadata": {},
     "output_type": "execute_result"
    }
   ],
   "source": [
    "# Mars Hemispheres\n",
    "\n",
    "astrogeologyUrl = f\"https://astrogeology.usgs.gov\"\n",
    "searchUrl = f\"/search/results?q=hemisphere+enhanced&k1=target&v1=Mars\"\n",
    "mainPageUrl = astrogeologyUrl + searchUrl\n",
    "\n",
    "imageList = []\n",
    "\n",
    "with Browser('chrome', **executable_path, headless=False) as browser:\n",
    "    browser.visit(mainPageUrl)\n",
    "    soup = bs(browser.html, 'html.parser')\n",
    "    \n",
    "    hemispheresLinks = soup.find_all(\"div\", class_=\"description\")\n",
    "    for link in hemispheresLinks:\n",
    "        hemisphereUrl = astrogeologyUrl + link.a[\"href\"]\n",
    "        browser.visit(hemisphereUrl)\n",
    "        soup = bs(browser.html, 'html.parser')\n",
    "        image = astrogeologyUrl + soup.find(\"img\", class_=\"wide-image\")[\"src\"]\n",
    "        title = soup.find(\"h2\", class_=\"title\").text.replace(\" Enhanced\", \"\")\n",
    "        imageList.append( { \"title\" : title, \"img_url\" : image } )\n",
    "\n",
    "imageList"
   ]
  },
  {
   "cell_type": "code",
   "execution_count": 80,
   "metadata": {},
   "outputs": [
    {
     "name": "stdout",
     "output_type": "stream",
     "text": [
      "{'title': 'Cerberus Hemisphere', 'img_url': 'https://astrogeology.usgs.gov/cache/images/cfa62af2557222a02478f1fcd781d445_cerberus_enhanced.tif_full.jpg'}\n",
      "{'title': 'Schiaparelli Hemisphere', 'img_url': 'https://astrogeology.usgs.gov/cache/images/3cdd1cbf5e0813bba925c9030d13b62e_schiaparelli_enhanced.tif_full.jpg'}\n",
      "{'title': 'Syrtis Major Hemisphere', 'img_url': 'https://astrogeology.usgs.gov/cache/images/ae209b4e408bb6c3e67b6af38168cf28_syrtis_major_enhanced.tif_full.jpg'}\n",
      "{'title': 'Valles Marineris Hemisphere', 'img_url': 'https://astrogeology.usgs.gov/cache/images/7cf2da4bf549ed01c17f206327be4db7_valles_marineris_enhanced.tif_full.jpg'}\n",
      "--------------------------------------------------\n",
      "https://astrogeology.usgs.gov/cache/images/cfa62af2557222a02478f1fcd781d445_cerberus_enhanced.tif_full.jpg\n",
      "https://astrogeology.usgs.gov/cache/images/3cdd1cbf5e0813bba925c9030d13b62e_schiaparelli_enhanced.tif_full.jpg\n",
      "https://astrogeology.usgs.gov/cache/images/ae209b4e408bb6c3e67b6af38168cf28_syrtis_major_enhanced.tif_full.jpg\n",
      "https://astrogeology.usgs.gov/cache/images/7cf2da4bf549ed01c17f206327be4db7_valles_marineris_enhanced.tif_full.jpg\n"
     ]
    }
   ],
   "source": [
    "import pymongo\n",
    "from pymongo import MongoClient\n",
    "\n",
    "\n",
    "def getData():\n",
    "    conn = 'mongodb://localhost:27017'\n",
    "    client = pymongo.MongoClient(conn)\n",
    "    db = client.Mars\n",
    "    collection = db.MarsData\n",
    "    data = collection.find_one()\n",
    "    return data\n",
    "\n",
    "#print(data['imageList'])\n",
    "\n",
    "for k in data['imageList']:\n",
    "    print(k)\n",
    "        \n",
    "print('--------------------------------------------------')\n",
    "\n",
    "for d in data['imageList']:\n",
    "    print(d['img_url'])"
   ]
  },
  {
   "cell_type": "code",
   "execution_count": 68,
   "metadata": {},
   "outputs": [],
   "source": [
    "import re \n",
    "\n"
   ]
  },
  {
   "cell_type": "code",
   "execution_count": 72,
   "metadata": {},
   "outputs": [
    {
     "data": {
      "text/plain": [
       "['https://astrogeology']"
      ]
     },
     "execution_count": 72,
     "metadata": {},
     "output_type": "execute_result"
    }
   ],
   "source": []
  }
 ],
 "metadata": {
  "kernelspec": {
   "display_name": "Python 3",
   "language": "python",
   "name": "python3"
  },
  "language_info": {
   "codemirror_mode": {
    "name": "ipython",
    "version": 3
   },
   "file_extension": ".py",
   "mimetype": "text/x-python",
   "name": "python",
   "nbconvert_exporter": "python",
   "pygments_lexer": "ipython3",
   "version": "3.7.3"
  }
 },
 "nbformat": 4,
 "nbformat_minor": 2
}
